{
 "cells": [
  {
   "cell_type": "markdown",
   "id": "e6f289c8",
   "metadata": {},
   "source": [
    "# I WILL TRY TO MAKE A NAIVE BAYES ALGORITHM TO PREDICT CROP FROM SCRATCH HERE"
   ]
  },
  {
   "cell_type": "code",
   "execution_count": 1,
   "id": "79fcc0de",
   "metadata": {},
   "outputs": [
    {
     "data": {
      "text/html": [
       "<div>\n",
       "<style scoped>\n",
       "    .dataframe tbody tr th:only-of-type {\n",
       "        vertical-align: middle;\n",
       "    }\n",
       "\n",
       "    .dataframe tbody tr th {\n",
       "        vertical-align: top;\n",
       "    }\n",
       "\n",
       "    .dataframe thead th {\n",
       "        text-align: right;\n",
       "    }\n",
       "</style>\n",
       "<table border=\"1\" class=\"dataframe\">\n",
       "  <thead>\n",
       "    <tr style=\"text-align: right;\">\n",
       "      <th></th>\n",
       "      <th>N</th>\n",
       "      <th>P</th>\n",
       "      <th>K</th>\n",
       "      <th>temperature</th>\n",
       "      <th>humidity</th>\n",
       "      <th>ph</th>\n",
       "      <th>rainfall</th>\n",
       "      <th>label</th>\n",
       "    </tr>\n",
       "  </thead>\n",
       "  <tbody>\n",
       "    <tr>\n",
       "      <th>0</th>\n",
       "      <td>90</td>\n",
       "      <td>42</td>\n",
       "      <td>43</td>\n",
       "      <td>20.879744</td>\n",
       "      <td>82.002744</td>\n",
       "      <td>6.502985</td>\n",
       "      <td>202.935536</td>\n",
       "      <td>rice</td>\n",
       "    </tr>\n",
       "    <tr>\n",
       "      <th>1</th>\n",
       "      <td>85</td>\n",
       "      <td>58</td>\n",
       "      <td>41</td>\n",
       "      <td>21.770462</td>\n",
       "      <td>80.319644</td>\n",
       "      <td>7.038096</td>\n",
       "      <td>226.655537</td>\n",
       "      <td>rice</td>\n",
       "    </tr>\n",
       "    <tr>\n",
       "      <th>2</th>\n",
       "      <td>60</td>\n",
       "      <td>55</td>\n",
       "      <td>44</td>\n",
       "      <td>23.004459</td>\n",
       "      <td>82.320763</td>\n",
       "      <td>7.840207</td>\n",
       "      <td>263.964248</td>\n",
       "      <td>rice</td>\n",
       "    </tr>\n",
       "    <tr>\n",
       "      <th>3</th>\n",
       "      <td>74</td>\n",
       "      <td>35</td>\n",
       "      <td>40</td>\n",
       "      <td>26.491096</td>\n",
       "      <td>80.158363</td>\n",
       "      <td>6.980401</td>\n",
       "      <td>242.864034</td>\n",
       "      <td>rice</td>\n",
       "    </tr>\n",
       "    <tr>\n",
       "      <th>4</th>\n",
       "      <td>78</td>\n",
       "      <td>42</td>\n",
       "      <td>42</td>\n",
       "      <td>20.130175</td>\n",
       "      <td>81.604873</td>\n",
       "      <td>7.628473</td>\n",
       "      <td>262.717340</td>\n",
       "      <td>rice</td>\n",
       "    </tr>\n",
       "    <tr>\n",
       "      <th>...</th>\n",
       "      <td>...</td>\n",
       "      <td>...</td>\n",
       "      <td>...</td>\n",
       "      <td>...</td>\n",
       "      <td>...</td>\n",
       "      <td>...</td>\n",
       "      <td>...</td>\n",
       "      <td>...</td>\n",
       "    </tr>\n",
       "    <tr>\n",
       "      <th>2195</th>\n",
       "      <td>107</td>\n",
       "      <td>34</td>\n",
       "      <td>32</td>\n",
       "      <td>26.774637</td>\n",
       "      <td>66.413269</td>\n",
       "      <td>6.780064</td>\n",
       "      <td>177.774507</td>\n",
       "      <td>coffee</td>\n",
       "    </tr>\n",
       "    <tr>\n",
       "      <th>2196</th>\n",
       "      <td>99</td>\n",
       "      <td>15</td>\n",
       "      <td>27</td>\n",
       "      <td>27.417112</td>\n",
       "      <td>56.636362</td>\n",
       "      <td>6.086922</td>\n",
       "      <td>127.924610</td>\n",
       "      <td>coffee</td>\n",
       "    </tr>\n",
       "    <tr>\n",
       "      <th>2197</th>\n",
       "      <td>118</td>\n",
       "      <td>33</td>\n",
       "      <td>30</td>\n",
       "      <td>24.131797</td>\n",
       "      <td>67.225123</td>\n",
       "      <td>6.362608</td>\n",
       "      <td>173.322839</td>\n",
       "      <td>coffee</td>\n",
       "    </tr>\n",
       "    <tr>\n",
       "      <th>2198</th>\n",
       "      <td>117</td>\n",
       "      <td>32</td>\n",
       "      <td>34</td>\n",
       "      <td>26.272418</td>\n",
       "      <td>52.127394</td>\n",
       "      <td>6.758793</td>\n",
       "      <td>127.175293</td>\n",
       "      <td>coffee</td>\n",
       "    </tr>\n",
       "    <tr>\n",
       "      <th>2199</th>\n",
       "      <td>104</td>\n",
       "      <td>18</td>\n",
       "      <td>30</td>\n",
       "      <td>23.603016</td>\n",
       "      <td>60.396475</td>\n",
       "      <td>6.779833</td>\n",
       "      <td>140.937041</td>\n",
       "      <td>coffee</td>\n",
       "    </tr>\n",
       "  </tbody>\n",
       "</table>\n",
       "<p>2200 rows × 8 columns</p>\n",
       "</div>"
      ],
      "text/plain": [
       "        N   P   K  temperature   humidity        ph    rainfall   label\n",
       "0      90  42  43    20.879744  82.002744  6.502985  202.935536    rice\n",
       "1      85  58  41    21.770462  80.319644  7.038096  226.655537    rice\n",
       "2      60  55  44    23.004459  82.320763  7.840207  263.964248    rice\n",
       "3      74  35  40    26.491096  80.158363  6.980401  242.864034    rice\n",
       "4      78  42  42    20.130175  81.604873  7.628473  262.717340    rice\n",
       "...   ...  ..  ..          ...        ...       ...         ...     ...\n",
       "2195  107  34  32    26.774637  66.413269  6.780064  177.774507  coffee\n",
       "2196   99  15  27    27.417112  56.636362  6.086922  127.924610  coffee\n",
       "2197  118  33  30    24.131797  67.225123  6.362608  173.322839  coffee\n",
       "2198  117  32  34    26.272418  52.127394  6.758793  127.175293  coffee\n",
       "2199  104  18  30    23.603016  60.396475  6.779833  140.937041  coffee\n",
       "\n",
       "[2200 rows x 8 columns]"
      ]
     },
     "execution_count": 1,
     "metadata": {},
     "output_type": "execute_result"
    }
   ],
   "source": [
    "import numpy as np\n",
    "import pandas as pd\n",
    "read = pd.read_csv(\"Crop_recommendation.csv\")\n",
    "read"
   ]
  },
  {
   "cell_type": "code",
   "execution_count": 2,
   "id": "78e30ed7",
   "metadata": {},
   "outputs": [
    {
     "name": "stdout",
     "output_type": "stream",
     "text": [
      "['rice' 'maize' 'chickpea' 'kidneybeans' 'pigeonpeas' 'mothbeans'\n",
      " 'mungbean' 'blackgram' 'lentil' 'pomegranate' 'banana' 'mango' 'grapes'\n",
      " 'watermelon' 'muskmelon' 'apple' 'orange' 'papaya' 'coconut' 'cotton'\n",
      " 'jute' 'coffee']\n",
      "Index(['N', 'P', 'K', 'temperature', 'humidity', 'ph', 'rainfall'], dtype='object')\n"
     ]
    }
   ],
   "source": [
    "print(read['label'].unique())\n",
    "print(read.columns[0:len(read.columns)-1])\n"
   ]
  },
  {
   "cell_type": "code",
   "execution_count": 43,
   "id": "6d20eb03",
   "metadata": {},
   "outputs": [
    {
     "name": "stdout",
     "output_type": "stream",
     "text": [
      "{'riceN': 0.021751755529555706, 'riceP': 0.1061060912175769, 'riceK': 9.999612154057377e-07, 'ricetemperature': 0.20923574355540758, 'ricehumidity': 1.5413796177709252e-58, 'riceph': 0.4326807382174799, 'ricerainfall': 0.05714591714362816, 'maizeN': 0.04099693407220215, 'maizeP': 0.1903975408388233, 'maizeK': 3.2688905849596717, 'maizetemperature': 0.40112267532235574, 'maizehumidity': 9.161598321149214, 'maizeph': 0.013671433334522408, 'maizerainfall': 24.556039361044647, 'chickpeaN': 32.242308303292084, 'chickpeaP': 17.047049856063488, 'chickpeaK': 7.939170159986753e-68, 'chickpeatemperature': 1.9583701692070506e-16, 'chickpeahumidity': 1.4671082656398456e-131, 'chickpeaph': 0.03573214231828153, 'chickpearainfall': 0.3858681354618033, 'kidneybeansN': 16.503865579710677, 'kidneybeansP': 17.295840621304674, 'kidneybeansK': 5.71641679419054, 'kidneybeanstemperature': 0.023736813985113032, 'kidneybeanshumidity': 1.546862973163913e-64, 'kidneybeansph': 7.52159004227844e-07, 'kidneybeansrainfall': 81.52008412825724, 'pigeonpeasN': 20.32760203379205, 'pigeonpeasP': 16.28514269611099, 'pigeonpeasK': 4.370283221939737, 'pigeonpeastemperature': 17.52648513944907, 'pigeonpeashumidity': 20.939140275386052, 'pigeonpeasph': 1.6508061046676545, 'pigeonpeasrainfall': 38.43787826122187, 'mothbeansN': 20.251827123621577, 'mothbeansP': 0.08865956007239344, 'mothbeansK': 5.71641679419054, 'mothbeanstemperature': 6.496070885090905, 'mothbeanshumidity': 15.508130250760932, 'mothbeansph': 3.6073424903537914, 'mothbeansrainfall': 0.03579122940285653, 'mungbeanN': 19.029289255770713, 'mungbeanP': 0.09624899103510703, 'mungbeanK': 3.8746420549735587, 'mungbeantemperature': 2.2556525935086187, 'mungbeanhumidity': 1.570771389243748e-18, 'mungbeanph': 1.2474424682321356e-08, 'mungbeanrainfall': 3.7280236668606835e-12, 'blackgramN': 34.096399543021285, 'blackgramP': 15.76356911914793, 'blackgramK': 4.463898254401267, 'blackgramtemperature': 7.9032621808938135, 'blackgramhumidity': 0.8052923287470473, 'blackgramph': 8.773554410453403e-08, 'blackgramrainfall': 6.670194511588081e-15, 'lentilN': 17.871386022802675, 'lentilP': 18.065910885953834, 'lentilK': 3.2688905849596717, 'lentiltemperature': 4.181381607990145, 'lentilhumidity': 1.3052592078711691, 'lentilph': 0.0036444384709011387, 'lentilrainfall': 5.798525616207215e-22, 'pomegranateN': 19.523811381954303, 'pomegranateP': 1.5815393941424814e-11, 'pomegranateK': 1.0033026185931373e-06, 'pomegranatetemperature': 0.035697696834341985, 'pomegranatehumidity': 3.9917757915559396e-26, 'pomegranateph': 0.022528438250470722, 'pomegranaterainfall': 2.677043239935668, 'bananaN': 4.141053544535039e-07, 'bananaP': 12.146704881506738, 'bananaK': 4.2355161072648955e-14, 'bananatemperature': 2.352649442062035, 'bananahumidity': 2.2897659328374583e-12, 'bananaph': 0.0011478088824113512, 'bananarainfall': 29.086028443470084, 'mangoN': 22.214585855237747, 'mangoP': 2.862420889767758e-07, 'mangoK': 1.2755049947629091, 'mangotemperature': 5.896705188779847, 'mangohumidity': 0.05036337365329454, 'mangoph': 1.2215954693236024, 'mangorainfall': 0.47869908680471834, 'grapesN': 28.328313998870794, 'grapesP': 2.2196550865529528e-12, 'grapesK': 0.0, 'grapestemperature': 26.601921970026403, 'grapeshumidity': 3.6401193163091296e-82, 'grapesph': 0.002526981929178769, 'grapesrainfall': 1.5286825367428381e-27, 'watermelonN': 3.717928984001907e-05, 'watermelonP': 1.6255427404667762e-11, 'watermelonK': 1.4693187048331226e-15, 'watermelontemperature': 0.0008638788601070532, 'watermelonhumidity': 9.282350518331955e-17, 'watermelonph': 6.486250045614478e-07, 'watermelonrainfall': 1.1668898182137887e-16, 'muskmelonN': 9.907638647245738e-06, 'muskmelonP': 9.965716691169552e-13, 'muskmelonK': 1.4693187048331226e-15, 'muskmelontemperature': 2.5065199485127763, 'muskmelonhumidity': 1.2848685379018724e-106, 'muskmelonph': 2.4104992291463806e-08, 'muskmelonrainfall': 7.731389677896371e-173, 'appleN': 20.32760203379205, 'appleP': 1.460237860210827e-11, 'appleK': 0.0, 'appletemperature': 3.5325251890833473e-13, 'applehumidity': 1.7629356106215635e-113, 'appleph': 0.002147262260539253, 'applerainfall': 8.859194992723108, 'orangeN': 18.774556388215526, 'orangeP': 2.659229251289144e-11, 'orangeK': 0.0007883670994255217, 'orangetemperature': 16.08617246685363, 'orangehumidity': 7.447513946772854e-117, 'orangeph': 0.003964590474501101, 'orangerainfall': 7.640456190697928, 'papayaN': 16.242684716689116, 'papayaP': 2.9761783211134545, 'papayaK': 2.4285363612619684e-17, 'papayatemperature': 14.804768056863939, 'papayahumidity': 3.675671341058863e-120, 'papayaph': 2.1664821870971244e-31, 'papayarainfall': 167.41054210932924, 'coconutN': 21.90286823744951, 'coconutP': 1.5551479942052567e-09, 'coconutK': 0.41559280039347823, 'coconuttemperature': 2.2537616046985933, 'coconuthumidity': 1.8411967696077018e-38, 'coconutph': 0.002837180427532413, 'coconutrainfall': 4.4235608679426734, 'cottonN': 1.6321283049416834e-10, 'cottonP': 0.02703080625814278, 'cottonK': 4.463898254401267, 'cottontemperature': 0.00021123841539989605, 'cottonhumidity': 7.024356172519661e-10, 'cottonph': 0.018833329036181463, 'cottonrainfall': 4.658863803712783, 'juteN': 0.007453852674379527, 'juteP': 0.017660652769610406, 'juteK': 2.7427138798692476e-05, 'jutetemperature': 0.011105318561748187, 'jutehumidity': 0.015443452391371734, 'juteph': 0.0007485898560483347, 'juterainfall': 0.0005659238998725392, 'coffeeN': 9.598956440469777e-06, 'coffeeP': 7.923861442958248e-08, 'coffeeK': 1.6421763952753152, 'coffeetemperature': 0.3334199905580887, 'coffeehumidity': 18.337838776799032, 'coffeeph': 0.00013104056223974195, 'coffeerainfall': 8.1226882852876}\n"
     ]
    }
   ],
   "source": [
    "import numpy as np\n",
    "import matplotlib.pyplot as plt\n",
    "from scipy.stats import norm\n",
    "from math import exp, sqrt, pi\n",
    "import statistics\n",
    "import seaborn as sb\n",
    "\n",
    "def calculate_probability(x , mean , sd):\n",
    "    prob_density = (np.pi*sd) * np.exp(-0.5*((x-mean)/sd)**2)\n",
    "    return prob_density\n",
    "\n",
    "# Working when we use probability instead of likelyhood\n",
    "\n",
    "# def calculate_probability(x, mean, stdev):\n",
    "#     exponent = exp(-((x-mean)**2 / (2 * stdev**2 )))\n",
    "#     return (1 / (sqrt(2 * pi) * stdev)) * exponent\n",
    "\n",
    "# def mean(numbers):\n",
    "#     return sum(numbers)/float(len(numbers))\n",
    " \n",
    "# def stdev(numbers):\n",
    "#     avg = mean(numbers)\n",
    "#     variance = sum([(x-avg)**2 for x in numbers]) / float(len(numbers)-1)\n",
    "#     return sqrt(variance)\n",
    " \n",
    "\n",
    "# N = float(input(\"N : \"))\n",
    "# P = float(input(\"P : \"))\n",
    "# K = float(input(\"K : \"))\n",
    "# temp = float(input(\"temp : \"))\n",
    "# humidity = float(input(\"humidity : \"))\n",
    "# ph = float(input(\"Ph : \"))\n",
    "# rainfall = float(input(\"rainfall : \"))\n",
    "\n",
    "N = 33\n",
    "P = 73\n",
    "K = 23\n",
    "temp = 29\n",
    "humidity = 59\n",
    "ph = 5\n",
    "rainfall = 103\n",
    "\n",
    "data={}\n",
    "for i in read['label'].unique():\n",
    "    for col in read.columns[0:len(read.columns)-1]:\n",
    "        list = []\n",
    "        for k in range(len(read)):\n",
    "            if read['label'][k] == i:\n",
    "                list.append(read[col][k])\n",
    "        if(col=='N'):\n",
    "            input = N\n",
    "        elif (col == 'P'):\n",
    "            input=P\n",
    "        elif (col=='K'):\n",
    "            input = K\n",
    "        elif (col == 'temperature'):\n",
    "            input = temp\n",
    "        elif (col == 'humidity'):\n",
    "            input = humidity\n",
    "        elif (col == 'ph'):\n",
    "            input = ph\n",
    "        elif (col == 'rainfall'):\n",
    "            input = rainfall\n",
    "            \n",
    "        x_axis = np.asarray(list)\n",
    "        mean = statistics.mean(x_axis)\n",
    "        sd = statistics.stdev(x_axis)\n",
    "#         y_axis = norm.pdf(x_axis, mean, sd)\n",
    "#         value = np.interp(input, x_axis,y_axis)\n",
    "        value = calculate_probability(input, mean, sd)\n",
    "        data[str(i)+str(col)] = value\n",
    "\n",
    "\n",
    "print(data)"
   ]
  },
  {
   "cell_type": "code",
   "execution_count": 44,
   "id": "e615b425",
   "metadata": {},
   "outputs": [
    {
     "data": {
      "text/plain": [
       "rice           100\n",
       "maize          100\n",
       "jute           100\n",
       "cotton         100\n",
       "coconut        100\n",
       "papaya         100\n",
       "orange         100\n",
       "apple          100\n",
       "muskmelon      100\n",
       "watermelon     100\n",
       "grapes         100\n",
       "mango          100\n",
       "banana         100\n",
       "pomegranate    100\n",
       "lentil         100\n",
       "blackgram      100\n",
       "mungbean       100\n",
       "mothbeans      100\n",
       "pigeonpeas     100\n",
       "kidneybeans    100\n",
       "chickpea       100\n",
       "coffee         100\n",
       "Name: label, dtype: int64"
      ]
     },
     "execution_count": 44,
     "metadata": {},
     "output_type": "execute_result"
    }
   ],
   "source": [
    "read['label'].value_counts()"
   ]
  },
  {
   "cell_type": "code",
   "execution_count": 40,
   "id": "9cd5cae9",
   "metadata": {},
   "outputs": [
    {
     "data": {
      "text/plain": [
       "0.01"
      ]
     },
     "execution_count": 40,
     "metadata": {},
     "output_type": "execute_result"
    }
   ],
   "source": [
    "probabilityofanycrop= 21/(21*100)\n",
    "probabilityofanycrop    "
   ]
  },
  {
   "cell_type": "code",
   "execution_count": 45,
   "id": "9b18b361",
   "metadata": {},
   "outputs": [
    {
     "name": "stdout",
     "output_type": "stream",
     "text": [
      "{'rice': -162.87354987093826, 'maize': -8.0635748725682, 'chickpea': -494.508458109337, 'kidneybeans': -157.57718107011553, 'pigeonpeas': 12.727530925992458, 'mothbeans': 0.2889464729833673, 'mungbean': -87.34180805665893, 'blackgram': -43.86159485305987, 'lentil': -50.46026983250281, 'pomegranate': -104.9396953609535, 'banana': -76.94461572449563, 'mango': -18.078129490156137, 'grapes': -280.0600762180556, 'watermelon': -168.7068411294676, 'muskmelon': -734.6630550746318, 'apple': -318.80186128441323, 'orange': -301.28212498223826, 'papaya': -376.7836554219909, 'coconut': -113.13151369395804, 'cotton': -61.22823795951181, 'jute': -47.389859666806075, 'coffee': -37.048534235392346}\n"
     ]
    }
   ],
   "source": [
    "from math import log\n",
    "Score = {}\n",
    "value = log(probabilityofanycrop)\n",
    "for i in read['label'].unique():\n",
    "    for col in read.columns[0:len(read.columns)-1]:\n",
    "        try:\n",
    "            value+=log(data[str(i)+str(col)])\n",
    "        except:\n",
    "            value+=log(1)\n",
    "    Score[i] = value\n",
    "    value = log(probabilityofanycrop)\n",
    "print(Score)"
   ]
  },
  {
   "cell_type": "code",
   "execution_count": 47,
   "id": "284eda74",
   "metadata": {},
   "outputs": [
    {
     "name": "stdout",
     "output_type": "stream",
     "text": [
      "pigeonpeas\n",
      "12.727530925992458\n"
     ]
    }
   ],
   "source": [
    "maximum = Score['rice']\n",
    "for keys in Score:\n",
    "    maximum = max(maximum,Score[keys])\n",
    "for keys in Score:\n",
    "    if Score[keys]==maximum :\n",
    "        print(keys)\n",
    "print(maximum)\n"
   ]
  }
 ],
 "metadata": {
  "kernelspec": {
   "display_name": "Python 3 (ipykernel)",
   "language": "python",
   "name": "python3"
  },
  "language_info": {
   "codemirror_mode": {
    "name": "ipython",
    "version": 3
   },
   "file_extension": ".py",
   "mimetype": "text/x-python",
   "name": "python",
   "nbconvert_exporter": "python",
   "pygments_lexer": "ipython3",
   "version": "3.9.7"
  }
 },
 "nbformat": 4,
 "nbformat_minor": 5
}
