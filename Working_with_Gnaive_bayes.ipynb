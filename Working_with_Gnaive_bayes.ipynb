{
 "cells": [
  {
   "cell_type": "code",
   "execution_count": 1,
   "id": "3785a1f3",
   "metadata": {},
   "outputs": [],
   "source": [
    "import numpy as np\n",
    "import pandas as pd\n",
    "import matplotlib.pyplot as plt"
   ]
  },
  {
   "cell_type": "code",
   "execution_count": 5,
   "id": "fb66530d",
   "metadata": {},
   "outputs": [
    {
     "data": {
      "text/html": [
       "<div>\n",
       "<style scoped>\n",
       "    .dataframe tbody tr th:only-of-type {\n",
       "        vertical-align: middle;\n",
       "    }\n",
       "\n",
       "    .dataframe tbody tr th {\n",
       "        vertical-align: top;\n",
       "    }\n",
       "\n",
       "    .dataframe thead th {\n",
       "        text-align: right;\n",
       "    }\n",
       "</style>\n",
       "<table border=\"1\" class=\"dataframe\">\n",
       "  <thead>\n",
       "    <tr style=\"text-align: right;\">\n",
       "      <th></th>\n",
       "      <th>N</th>\n",
       "      <th>P</th>\n",
       "      <th>K</th>\n",
       "      <th>temperature</th>\n",
       "      <th>humidity</th>\n",
       "      <th>ph</th>\n",
       "      <th>rainfall</th>\n",
       "      <th>label</th>\n",
       "    </tr>\n",
       "  </thead>\n",
       "  <tbody>\n",
       "    <tr>\n",
       "      <th>0</th>\n",
       "      <td>63</td>\n",
       "      <td>41</td>\n",
       "      <td>45</td>\n",
       "      <td>25.297818</td>\n",
       "      <td>86.887054</td>\n",
       "      <td>7.121934</td>\n",
       "      <td>196.624951</td>\n",
       "      <td>jute</td>\n",
       "    </tr>\n",
       "    <tr>\n",
       "      <th>1</th>\n",
       "      <td>86</td>\n",
       "      <td>40</td>\n",
       "      <td>39</td>\n",
       "      <td>25.721009</td>\n",
       "      <td>88.165136</td>\n",
       "      <td>6.207460</td>\n",
       "      <td>175.608670</td>\n",
       "      <td>jute</td>\n",
       "    </tr>\n",
       "    <tr>\n",
       "      <th>2</th>\n",
       "      <td>96</td>\n",
       "      <td>41</td>\n",
       "      <td>40</td>\n",
       "      <td>23.584193</td>\n",
       "      <td>72.004608</td>\n",
       "      <td>6.090060</td>\n",
       "      <td>190.424216</td>\n",
       "      <td>jute</td>\n",
       "    </tr>\n",
       "    <tr>\n",
       "      <th>3</th>\n",
       "      <td>100</td>\n",
       "      <td>35</td>\n",
       "      <td>36</td>\n",
       "      <td>25.310423</td>\n",
       "      <td>72.013644</td>\n",
       "      <td>6.346715</td>\n",
       "      <td>190.557762</td>\n",
       "      <td>jute</td>\n",
       "    </tr>\n",
       "    <tr>\n",
       "      <th>4</th>\n",
       "      <td>63</td>\n",
       "      <td>37</td>\n",
       "      <td>43</td>\n",
       "      <td>23.417990</td>\n",
       "      <td>85.086405</td>\n",
       "      <td>6.661958</td>\n",
       "      <td>185.744673</td>\n",
       "      <td>jute</td>\n",
       "    </tr>\n",
       "  </tbody>\n",
       "</table>\n",
       "</div>"
      ],
      "text/plain": [
       "     N   P   K  temperature   humidity        ph    rainfall label\n",
       "0   63  41  45    25.297818  86.887054  7.121934  196.624951  jute\n",
       "1   86  40  39    25.721009  88.165136  6.207460  175.608670  jute\n",
       "2   96  41  40    23.584193  72.004608  6.090060  190.424216  jute\n",
       "3  100  35  36    25.310423  72.013644  6.346715  190.557762  jute\n",
       "4   63  37  43    23.417990  85.086405  6.661958  185.744673  jute"
      ]
     },
     "execution_count": 5,
     "metadata": {},
     "output_type": "execute_result"
    }
   ],
   "source": [
    "cropdata = pd.read_csv(\"small_crop_rec.csv\")\n",
    "cropdata.head()"
   ]
  },
  {
   "cell_type": "code",
   "execution_count": 23,
   "id": "f02202e0",
   "metadata": {},
   "outputs": [
    {
     "name": "stdout",
     "output_type": "stream",
     "text": [
      "['N', '63', '86', '96', '100', '63', '70', '67', '74', '89', '74', '89', '60', '67', '70', '74', '90', '82', '73', '85', '81', '84', '80', '76', '76', '81', '76', '69', '82', '69', '81', '67', '72', '65', '78', '77', '89', '62', '90', '66', '80', '89', '77', '94', '75', '60', '62', '84', '100', '75', '78', '82', '100', '88', '67', '72', '89', '89', '61', '79', '84', '98', '75', '89', '91', '77', '66', '62', '82', '61', '99', '70', '90', '73', '67', '84', '72', '71', '64', '65', '60', '86', '90', '91', '87', '72', '71', '82', '71', '80', '77', '95', '63', '93', '87', '88', '90', '90', '84', '91', '107', '83', '108', '116', '116', '109', '89', '118', '111', '84', '85', '99', '81', '95', '81', '80', '104', '109', '100', '100', '83', '120', '104', '108', '91', '86', '98', '111', '84', '98', '118', '103', '82', '86', '88', '84', '120', '106', '113', '117', '80', '88', '113', '87', '113', '98', '97', '85', '82', '103', '112', '99', '120', '114', '100', '108', '115', '87', '82', '94', '87', '118', '87', '92', '97', '99', '89', '112', '111', '114', '117', '111', '119', '116', '95', '86', '117', '105', '109', '80', '101', '103', '93', '104', '116', '107', '101', '107', '99', '103', '118', '106', '116', '97', '107', '99', '118', '117', '104']\n",
      "['P', '41', '40', '41', '35', '37', '43', '55', '40', '53', '46', '41', '55', '43', '38', '49', '40', '35', '45', '53', '56', '55', '45', '54', '56', '40', '44', '47', '40', '57', '36', '60', '51', '39', '50', '52', '52', '49', '48', '47', '52', '52', '51', '37', '41', '55', '56', '40', '56', '56', '46', '48', '58', '50', '41', '42', '40', '57', '41', '45', '40', '43', '36', '58', '41', '48', '58', '59', '35', '41', '57', '42', '59', '43', '46', '37', '41', '56', '53', '54', '58', '39', '50', '38', '48', '41', '54', '46', '52', '43', '55', '57', '47', '43', '44', '52', '39', '39', '38', '21', '21', '38', '24', '28', '23', '31', '25', '18', '32', '36', '33', '15', '30', '39', '34', '15', '20', '29', '32', '24', '21', '23', '26', '33', '25', '26', '18', '27', '39', '27', '21', '27', '24', '31', '35', '27', '40', '40', '21', '34', '30', '21', '33', '23', '15', '29', '29', '35', '29', '33', '17', '19', '20', '27', '40', '35', '31', '28', '24', '26', '28', '40', '38', '40', '22', '40', '28', '39', '28', '20', '26', '29', '30', '40', '37', '40', '37', '18', '23', '18', '31', '33', '26', '35', '36', '38', '33', '31', '16', '40', '31', '21', '38', '35', '34', '15', '33', '32', '18']\n"
     ]
    }
   ],
   "source": [
    "import csv\n",
    "  \n",
    "x = []\n",
    "y = []\n",
    "  \n",
    "with open('small_crop_rec.csv','r') as csvfile:\n",
    "    plots = csv.reader(csvfile, delimiter = ',')\n",
    "    \n",
    "    for row in plots:\n",
    "        x.append(row[0])\n",
    "        y.append(row[1])\n",
    "print(x)\n",
    "print(y)"
   ]
  },
  {
   "cell_type": "code",
   "execution_count": 22,
   "id": "6961a521",
   "metadata": {},
   "outputs": [
    {
     "name": "stderr",
     "output_type": "stream",
     "text": [
      "No handles with labels found to put in legend.\n"
     ]
    },
    {
     "data": {
      "image/png": "[encoded data removed]",
      "text/plain": [
       "<Figure size 432x288 with 1 Axes>"
      ]
     },
     "metadata": {
      "needs_background": "light"
     },
     "output_type": "display_data"
    }
   ],
   "source": [
    "plt.xticks(rotation = 25)\n",
    "plt.xlabel(\"\")\n",
    "plt.ylabel('')\n",
    "plt.title('Weather Report', fontsize = 20)\n",
    "plt.grid()\n",
    "plt.legend()\n",
    "plt.show()"
   ]
  },
  {
   "cell_type": "code",
   "execution_count": null,
   "id": "c9da62f0",
   "metadata": {},
   "outputs": [],
   "source": []
  }
 ],
 "metadata": {
  "kernelspec": {
   "display_name": "Python 3 (ipykernel)",
   "language": "python",
   "name": "python3"
  },
  "language_info": {
   "codemirror_mode": {
    "name": "ipython",
    "version": 3
   },
   "file_extension": ".py",
   "mimetype": "text/x-python",
   "name": "python",
   "nbconvert_exporter": "python",
   "pygments_lexer": "ipython3",
   "version": "3.9.7"
  }
 },
 "nbformat": 4,
 "nbformat_minor": 5
}
