{
 "cells": [
  {
   "cell_type": "markdown",
   "id": "e6f289c8",
   "metadata": {},
   "source": [
    "# I WILL TRY TO MAKE A NAIVE BAYES ALGORITHM TO PREDICT CROP FROM SCRATCH HERE"
   ]
  },
  {
   "cell_type": "code",
   "execution_count": 1,
   "id": "79fcc0de",
   "metadata": {},
   "outputs": [
    {
     "data": {
      "text/html": [
       "<div>\n",
       "<style scoped>\n",
       "    .dataframe tbody tr th:only-of-type {\n",
       "        vertical-align: middle;\n",
       "    }\n",
       "\n",
       "    .dataframe tbody tr th {\n",
       "        vertical-align: top;\n",
       "    }\n",
       "\n",
       "    .dataframe thead th {\n",
       "        text-align: right;\n",
       "    }\n",
       "</style>\n",
       "<table border=\"1\" class=\"dataframe\">\n",
       "  <thead>\n",
       "    <tr style=\"text-align: right;\">\n",
       "      <th></th>\n",
       "      <th>N</th>\n",
       "      <th>P</th>\n",
       "      <th>K</th>\n",
       "      <th>temperature</th>\n",
       "      <th>humidity</th>\n",
       "      <th>ph</th>\n",
       "      <th>rainfall</th>\n",
       "      <th>label</th>\n",
       "    </tr>\n",
       "  </thead>\n",
       "  <tbody>\n",
       "    <tr>\n",
       "      <th>0</th>\n",
       "      <td>90</td>\n",
       "      <td>42</td>\n",
       "      <td>43</td>\n",
       "      <td>20.879744</td>\n",
       "      <td>82.002744</td>\n",
       "      <td>6.502985</td>\n",
       "      <td>202.935536</td>\n",
       "      <td>rice</td>\n",
       "    </tr>\n",
       "    <tr>\n",
       "      <th>1</th>\n",
       "      <td>85</td>\n",
       "      <td>58</td>\n",
       "      <td>41</td>\n",
       "      <td>21.770462</td>\n",
       "      <td>80.319644</td>\n",
       "      <td>7.038096</td>\n",
       "      <td>226.655537</td>\n",
       "      <td>rice</td>\n",
       "    </tr>\n",
       "    <tr>\n",
       "      <th>2</th>\n",
       "      <td>60</td>\n",
       "      <td>55</td>\n",
       "      <td>44</td>\n",
       "      <td>23.004459</td>\n",
       "      <td>82.320763</td>\n",
       "      <td>7.840207</td>\n",
       "      <td>263.964248</td>\n",
       "      <td>rice</td>\n",
       "    </tr>\n",
       "    <tr>\n",
       "      <th>3</th>\n",
       "      <td>74</td>\n",
       "      <td>35</td>\n",
       "      <td>40</td>\n",
       "      <td>26.491096</td>\n",
       "      <td>80.158363</td>\n",
       "      <td>6.980401</td>\n",
       "      <td>242.864034</td>\n",
       "      <td>rice</td>\n",
       "    </tr>\n",
       "    <tr>\n",
       "      <th>4</th>\n",
       "      <td>78</td>\n",
       "      <td>42</td>\n",
       "      <td>42</td>\n",
       "      <td>20.130175</td>\n",
       "      <td>81.604873</td>\n",
       "      <td>7.628473</td>\n",
       "      <td>262.717340</td>\n",
       "      <td>rice</td>\n",
       "    </tr>\n",
       "    <tr>\n",
       "      <th>...</th>\n",
       "      <td>...</td>\n",
       "      <td>...</td>\n",
       "      <td>...</td>\n",
       "      <td>...</td>\n",
       "      <td>...</td>\n",
       "      <td>...</td>\n",
       "      <td>...</td>\n",
       "      <td>...</td>\n",
       "    </tr>\n",
       "    <tr>\n",
       "      <th>2195</th>\n",
       "      <td>107</td>\n",
       "      <td>34</td>\n",
       "      <td>32</td>\n",
       "      <td>26.774637</td>\n",
       "      <td>66.413269</td>\n",
       "      <td>6.780064</td>\n",
       "      <td>177.774507</td>\n",
       "      <td>coffee</td>\n",
       "    </tr>\n",
       "    <tr>\n",
       "      <th>2196</th>\n",
       "      <td>99</td>\n",
       "      <td>15</td>\n",
       "      <td>27</td>\n",
       "      <td>27.417112</td>\n",
       "      <td>56.636362</td>\n",
       "      <td>6.086922</td>\n",
       "      <td>127.924610</td>\n",
       "      <td>coffee</td>\n",
       "    </tr>\n",
       "    <tr>\n",
       "      <th>2197</th>\n",
       "      <td>118</td>\n",
       "      <td>33</td>\n",
       "      <td>30</td>\n",
       "      <td>24.131797</td>\n",
       "      <td>67.225123</td>\n",
       "      <td>6.362608</td>\n",
       "      <td>173.322839</td>\n",
       "      <td>coffee</td>\n",
       "    </tr>\n",
       "    <tr>\n",
       "      <th>2198</th>\n",
       "      <td>117</td>\n",
       "      <td>32</td>\n",
       "      <td>34</td>\n",
       "      <td>26.272418</td>\n",
       "      <td>52.127394</td>\n",
       "      <td>6.758793</td>\n",
       "      <td>127.175293</td>\n",
       "      <td>coffee</td>\n",
       "    </tr>\n",
       "    <tr>\n",
       "      <th>2199</th>\n",
       "      <td>104</td>\n",
       "      <td>18</td>\n",
       "      <td>30</td>\n",
       "      <td>23.603016</td>\n",
       "      <td>60.396475</td>\n",
       "      <td>6.779833</td>\n",
       "      <td>140.937041</td>\n",
       "      <td>coffee</td>\n",
       "    </tr>\n",
       "  </tbody>\n",
       "</table>\n",
       "<p>2200 rows × 8 columns</p>\n",
       "</div>"
      ],
      "text/plain": [
       "        N   P   K  temperature   humidity        ph    rainfall   label\n",
       "0      90  42  43    20.879744  82.002744  6.502985  202.935536    rice\n",
       "1      85  58  41    21.770462  80.319644  7.038096  226.655537    rice\n",
       "2      60  55  44    23.004459  82.320763  7.840207  263.964248    rice\n",
       "3      74  35  40    26.491096  80.158363  6.980401  242.864034    rice\n",
       "4      78  42  42    20.130175  81.604873  7.628473  262.717340    rice\n",
       "...   ...  ..  ..          ...        ...       ...         ...     ...\n",
       "2195  107  34  32    26.774637  66.413269  6.780064  177.774507  coffee\n",
       "2196   99  15  27    27.417112  56.636362  6.086922  127.924610  coffee\n",
       "2197  118  33  30    24.131797  67.225123  6.362608  173.322839  coffee\n",
       "2198  117  32  34    26.272418  52.127394  6.758793  127.175293  coffee\n",
       "2199  104  18  30    23.603016  60.396475  6.779833  140.937041  coffee\n",
       "\n",
       "[2200 rows x 8 columns]"
      ]
     },
     "execution_count": 1,
     "metadata": {},
     "output_type": "execute_result"
    }
   ],
   "source": [
    "import numpy as np\n",
    "import pandas as pd\n",
    "read = pd.read_csv(\"Crop_recommendation.csv\")\n",
    "read"
   ]
  },
  {
   "cell_type": "code",
   "execution_count": 2,
   "id": "78e30ed7",
   "metadata": {},
   "outputs": [
    {
     "name": "stdout",
     "output_type": "stream",
     "text": [
      "['rice' 'maize' 'chickpea' 'kidneybeans' 'pigeonpeas' 'mothbeans'\n",
      " 'mungbean' 'blackgram' 'lentil' 'pomegranate' 'banana' 'mango' 'grapes'\n",
      " 'watermelon' 'muskmelon' 'apple' 'orange' 'papaya' 'coconut' 'cotton'\n",
      " 'jute' 'coffee']\n",
      "Index(['N', 'P', 'K', 'temperature', 'humidity', 'ph', 'rainfall'], dtype='object')\n"
     ]
    }
   ],
   "source": [
    "print(read['label'].unique())\n",
    "print(read.columns[0:len(read.columns)-1])\n"
   ]
  },
  {
   "cell_type": "code",
   "execution_count": 37,
   "id": "6d20eb03",
   "metadata": {},
   "outputs": [
    {
     "name": "stdout",
     "output_type": "stream",
     "text": [
      "{'riceN': 1.9452085162313002e-05, 'riceP': 0.00021732456536045802, 'riceK': 1.5872793339833254e-08, 'ricetemperature': 0.00643961532474918, 'ricehumidity': 9.729351582106532e-60, 'riceph': 0.09298717017314814, 'ricerainfall': 6.1711231488418514e-06, 'maizeN': 3.666259727324627e-05, 'maizeP': 0.0003777822543998445, 'maizeK': 0.05188843717757435, 'maizetemperature': 0.007095375388851549, 'maizehumidity': 0.03918734766772844, 'maizeph': 0.010194001403751426, 'maizerainfall': 0.012900495552318866, 'chickpeaN': 0.027852807960391596, 'chickpeaP': 0.038656399189776806, 'chickpeaK': 1.0081735595164057e-69, 'chickpeatemperature': 1.817204000075352e-17, 'chickpeahumidity': 6.3566122342997665e-133, 'chickpeaph': 0.007069956310645209, 'chickpearainfall': 0.0007763943603071556, 'kidneybeansN': 0.0179126569679624, 'kidneybeansP': 0.03853248447669387, 'kidneybeansK': 0.0806569081730478, 'kidneybeanstemperature': 0.0004460450641391182, 'kidneybeanshumidity': 4.1818130412003436e-66, 'kidneybeansph': 4.5291738554424565e-06, 'kidneybeansrainfall': 0.015183259565486882, 'pigeonpeasN': 0.01843819089928184, 'pigeonpeasP': 0.03901897816920887, 'pigeonpeasK': 0.07928147766381809, 'pigeonpeastemperature': 0.06812694464489126, 'pigeonpeashumidity': 0.022121166506496818, 'pigeonpeasph': 0.30409788180324465, 'pigeonpeasrainfall': 0.004485923262827935, 'mothbeansN': 0.020091595912350234, 'mothbeansP': 0.00020104706533308976, 'mothbeansK': 0.0806569081730478, 'mothbeanstemperature': 0.1689498922001889, 'mothbeanshumidity': 0.04025258857891587, 'mothbeansph': 0.13210286790744794, 'mothbeansrainfall': 2.4037409278558968e-05, 'mungbeanN': 0.018306647940807108, 'mungbeanP': 0.00020036716051872514, 'mungbeanK': 0.05467002489199788, 'mungbeantemperature': 0.4044612719105888, 'mungbeanhumidity': 2.4534104824669074e-20, 'mungbeanph': 1.928882926974455e-08, 'mungbeanrainfall': 9.34584954227023e-15, 'blackgramN': 0.02706130474066267, 'blackgramP': 0.0392504438696244, 'blackgramK': 0.056685826122489576, 'blackgramtemperature': 0.13907177981571703, 'blackgramhumidity': 0.013059213910429784, 'blackgramph': 8.02796871802394e-08, 'blackgramrainfall': 4.8381217406854046e-17, 'lentilN': 0.01533404429421778, 'lentilP': 0.04328567428729033, 'lentilK': 0.05188843717757435, 'lentiltemperature': 0.04814445222258045, 'lentilhumidity': 0.019235536695941413, 'lentilph': 0.0015340023531517579, 'lentilrainfall': 2.320612147831263e-24, 'pomegranateN': 0.015592927948862852, 'pomegranateP': 3.719173574346015e-14, 'pomegranateK': 1.4156295821516289e-08, 'pomegranatetemperature': 0.0009312138172618523, 'pomegranatehumidity': 6.34851625553569e-28, 'pomegranateph': 0.011842104937908457, 'pomegranaterainfall': 0.04055241080032045, 'bananaN': 4.2752934331854623e-10, 'bananaP': 0.026143676527018864, 'bananaK': 4.889605776514412e-16, 'bananatemperature': 0.14643424377586084, 'bananahumidity': 3.694338370694007e-14, 'bananaph': 0.0019898220907880694, 'bananarainfall': 0.04181767782608435, 'mangoN': 0.01855901087792638, 'mangoP': 6.267086547085545e-10, 'mangoK': 0.017996988837729353, 'mangotemperature': 0.10631984403669008, 'mangohumidity': 0.0008418346265881505, 'mangoph': 0.3133059091493284, 'mangorainfall': 0.005453808849139221, 'grapesN': 0.023208614911937604, 'grapesP': 4.859792136730339e-15, 'grapesK': 0.0, 'grapestemperature': 0.03561851480208898, 'grapeshumidity': 3.336113301319378e-83, 'grapesph': 0.0036070857931100506, 'grapesrainfall': 2.22800266955642e-29, 'watermelonN': 3.0071952782112045e-08, 'watermelonP': 3.6861292485266386e-14, 'watermelonK': 1.865847738320882e-17, 'watermelontemperature': 0.00015179169106019423, 'watermelonhumidity': 1.3484414753076605e-18, 'watermelonph': 1.0400279925414462e-06, 'watermelonrainfall': 4.3048392100962634e-19, 'muskmelonN': 8.500972989678873e-09, 'muskmelonP': 2.4814101467172865e-15, 'muskmelonK': 1.865847738320882e-17, 'muskmelontemperature': 0.42906908202627314, 'muskmelonhumidity': 7.202420714128665e-108, 'muskmelonph': 5.710561820317975e-08, 'muskmelonrainfall': 1.275866047830173e-174, 'appleN': 0.01843819089928184, 'appleP': 2.809570032533989e-14, 'appleK': 0.0, 'appletemperature': 6.552555910038702e-14, 'applehumidity': 1.0523335385118592e-114, 'appleph': 0.0037701763775902144, 'applerainfall': 0.02229834399363404, 'orangeN': 0.016789645748454016, 'orangeP': 5.723529964306343e-14, 'orangeK': 1.1123620798546123e-05, 'orangetemperature': 0.03788967489418646, 'orangehumidity': 4.622654291633765e-118, 'orangeph': 0.0015157573000880874, 'orangerainfall': 0.029684112743163175, 'papayaN': 0.013843048456323741, 'papayaP': 0.007712995216169724, 'papayaK': 3.4265911905563055e-19, 'papayatemperature': 0.04792850736482674, 'papayahumidity': 2.3133829353081112e-121, 'papayaph': 1.267101973453752e-30, 'papayarainfall': 0.005126458268311962, 'coconutN': 0.0201549672722358, 'coconutP': 2.8620869729835847e-12, 'coconutK': 0.0065968744912688025, 'coconuttemperature': 0.14904181833753286, 'coconuthumidity': 3.2399774496706555e-40, 'coconutph': 0.004354832092274998, 'coconutrainfall': 0.0006467004769789391, 'cottonN': 1.5352557095101843e-13, 'cottonP': 6.356608042827847e-05, 'cottonK': 0.056685826122489576, 'cottontemperature': 2.0797924959576895e-05, 'cottonhumidity': 9.582857778788586e-12, 'cottonph': 0.006080193568005016, 'cottonrainfall': 0.0046896517524923995, 'juteN': 7.887870133575369e-06, 'juteP': 4.397408067900735e-05, 'juteK': 3.4828975312041633e-07, 'jutetemperature': 0.0010040449104532167, 'jutehumidity': 6.464703918285604e-05, 'juteph': 0.0004771495837310933, 'juterainfall': 3.160891587384641e-07, 'coffeeN': 8.019376915524008e-09, 'coffeeP': 1.9350568217406107e-10, 'coffeeK': 0.020853550036283017, 'coffeetemperature': 0.01875187862835063, 'coffeehumidity': 0.06831183816592366, 'coffeeph': 9.563523873867353e-05, 'coffeerainfall': 0.0015622834762759677}\n"
     ]
    }
   ],
   "source": [
    "import numpy as np\n",
    "import matplotlib.pyplot as plt\n",
    "from scipy.stats import norm\n",
    "from math import exp, sqrt, pi\n",
    "import statistics\n",
    "import seaborn as sb\n",
    "\n",
    "def calculate_probability(x, mean, stdev):\n",
    "    exponent = exp(-((x-mean)**2 / (2 * stdev**2 )))\n",
    "    return (1 / (sqrt(2 * pi) * stdev)) * exponent\n",
    "\n",
    "def mean(numbers):\n",
    "    return sum(numbers)/float(len(numbers))\n",
    " \n",
    "def stdev(numbers):\n",
    "    avg = mean(numbers)\n",
    "    variance = sum([(x-avg)**2 for x in numbers]) / float(len(numbers)-1)\n",
    "    return sqrt(variance)\n",
    " \n",
    "\n",
    "# N = float(input(\"N : \"))\n",
    "# P = float(input(\"P : \"))\n",
    "# K = float(input(\"K : \"))\n",
    "# temp = float(input(\"temp : \"))\n",
    "# humidity = float(input(\"humidity : \"))\n",
    "# ph = float(input(\"Ph : \"))\n",
    "# rainfall = float(input(\"rainfall : \"))\n",
    "\n",
    "N = 33\n",
    "P = 73\n",
    "K = 23\n",
    "temp = 29\n",
    "humidity = 59\n",
    "ph = 5\n",
    "rainfall = 103\n",
    "\n",
    "data={}\n",
    "for i in read['label'].unique():\n",
    "    for col in read.columns[0:len(read.columns)-1]:\n",
    "        list = []\n",
    "        for k in range(len(read)):\n",
    "            if read['label'][k] == i:\n",
    "                list.append(read[col][k])\n",
    "        if(col=='N'):\n",
    "            input = N\n",
    "        elif (col == 'P'):\n",
    "            input=P\n",
    "        elif (col=='K'):\n",
    "            input = K\n",
    "        elif (col == 'temperature'):\n",
    "            input = temp\n",
    "        elif (col == 'humidity'):\n",
    "            input = humidity\n",
    "        elif (col == 'ph'):\n",
    "            input = ph\n",
    "        elif (col == 'rainfall'):\n",
    "            input = rainfall\n",
    "            \n",
    "        x_axis = np.asarray(list)\n",
    "        mean = statistics.mean(x_axis)\n",
    "        sd = statistics.stdev(x_axis)\n",
    "#         y_axis = norm.pdf(x_axis, mean, sd)\n",
    "#         value = np.interp(input, x_axis,y_axis)\n",
    "        value = calculate_probability(input, mean, sd)\n",
    "        data[str(i)+str(col)] = value\n",
    "\n",
    "\n",
    "print(data)"
   ]
  },
  {
   "cell_type": "code",
   "execution_count": 39,
   "id": "e615b425",
   "metadata": {},
   "outputs": [
    {
     "data": {
      "text/plain": [
       "rice           100\n",
       "maize          100\n",
       "jute           100\n",
       "cotton         100\n",
       "coconut        100\n",
       "papaya         100\n",
       "orange         100\n",
       "apple          100\n",
       "muskmelon      100\n",
       "watermelon     100\n",
       "grapes         100\n",
       "mango          100\n",
       "banana         100\n",
       "pomegranate    100\n",
       "lentil         100\n",
       "blackgram      100\n",
       "mungbean       100\n",
       "mothbeans      100\n",
       "pigeonpeas     100\n",
       "kidneybeans    100\n",
       "chickpea       100\n",
       "coffee         100\n",
       "Name: label, dtype: int64"
      ]
     },
     "execution_count": 39,
     "metadata": {},
     "output_type": "execute_result"
    }
   ],
   "source": [
    "read['label'].value_counts()"
   ]
  },
  {
   "cell_type": "code",
   "execution_count": 40,
   "id": "9cd5cae9",
   "metadata": {},
   "outputs": [
    {
     "data": {
      "text/plain": [
       "0.01"
      ]
     },
     "execution_count": 40,
     "metadata": {},
     "output_type": "execute_result"
    }
   ],
   "source": [
    "probabilityofanycrop= 21/(21*100)\n",
    "probabilityofanycrop    "
   ]
  },
  {
   "cell_type": "code",
   "execution_count": 41,
   "id": "9b18b361",
   "metadata": {},
   "outputs": [
    {
     "name": "stdout",
     "output_type": "stream",
     "text": [
      "{'rice': -197.14167265917746, 'maize': -42.78293432688188, 'chickpea': -525.3629859832866, 'kidneybeans': -189.1487169944651, 'pigeonpeas': -27.471778689389943, 'mothbeans': -37.192953841784565, 'mungbean': -116.15446579037392, 'blackgram': -74.53903987293867, 'lentil': -82.76607431517002, 'pomegranate': -135.0063412361, 'banana': -107.32128089934493, 'mango': -49.49330676614435, 'grapes': -306.16954588866633, 'watermelon': -197.38291209533546, 'muskmelon': -759.9738903838149, 'apple': -341.9855641589885, 'orange': -334.04634030712714, 'papaya': -411.19383257395873, 'coconut': -145.7215662815499, 'cotton': -93.26055937654232, 'jute': -80.42270466075583, 'coffee': -71.85923011416372}\n"
     ]
    }
   ],
   "source": [
    "from math import log\n",
    "Score = {}\n",
    "value = log(probabilityofanycrop)\n",
    "for i in read['label'].unique():\n",
    "    for col in read.columns[0:len(read.columns)-1]:\n",
    "        try:\n",
    "            value+=log(data[str(i)+str(col)])\n",
    "        except:\n",
    "            value+=log(1)\n",
    "    Score[i] = value\n",
    "    value = log(probabilityofanycrop)\n",
    "print(Score)"
   ]
  },
  {
   "cell_type": "code",
   "execution_count": 42,
   "id": "284eda74",
   "metadata": {},
   "outputs": [
    {
     "name": "stdout",
     "output_type": "stream",
     "text": [
      "pigeonpeas\n",
      "-27.471778689389943\n"
     ]
    }
   ],
   "source": [
    "maximum = Score['rice']\n",
    "for keys in Score:\n",
    "    maximum = max(maximum,Score[keys])\n",
    "for keys in Score:\n",
    "    if Score[keys]==maximum :\n",
    "        print(keys)\n",
    "print(maximum)\n"
   ]
  },
  {
   "cell_type": "code",
   "execution_count": null,
   "id": "49bfb64a",
   "metadata": {},
   "outputs": [],
   "source": []
  }
 ],
 "metadata": {
  "kernelspec": {
   "display_name": "Python 3 (ipykernel)",
   "language": "python",
   "name": "python3"
  },
  "language_info": {
   "codemirror_mode": {
    "name": "ipython",
    "version": 3
   },
   "file_extension": ".py",
   "mimetype": "text/x-python",
   "name": "python",
   "nbconvert_exporter": "python",
   "pygments_lexer": "ipython3",
   "version": "3.9.7"
  }
 },
 "nbformat": 4,
 "nbformat_minor": 5
}
