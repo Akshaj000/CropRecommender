{
 "cells": [
  {
   "cell_type": "code",
   "execution_count": 1,
   "id": "1dcb1cd0",
   "metadata": {},
   "outputs": [],
   "source": [
    "import numpy as np\n",
    "import pandas as pd\n",
    "import matplotlib.pyplot as plt"
   ]
  },
  {
   "cell_type": "code",
   "execution_count": 5,
   "id": "a3256f38",
   "metadata": {},
   "outputs": [
    {
     "data": {
      "text/html": [
       "<div>\n",
       "<style scoped>\n",
       "    .dataframe tbody tr th:only-of-type {\n",
       "        vertical-align: middle;\n",
       "    }\n",
       "\n",
       "    .dataframe tbody tr th {\n",
       "        vertical-align: top;\n",
       "    }\n",
       "\n",
       "    .dataframe thead th {\n",
       "        text-align: right;\n",
       "    }\n",
       "</style>\n",
       "<table border=\"1\" class=\"dataframe\">\n",
       "  <thead>\n",
       "    <tr style=\"text-align: right;\">\n",
       "      <th></th>\n",
       "      <th>N</th>\n",
       "      <th>P</th>\n",
       "      <th>K</th>\n",
       "      <th>temperature</th>\n",
       "      <th>humidity</th>\n",
       "      <th>ph</th>\n",
       "      <th>rainfall</th>\n",
       "      <th>label</th>\n",
       "    </tr>\n",
       "  </thead>\n",
       "  <tbody>\n",
       "    <tr>\n",
       "      <th>0</th>\n",
       "      <td>63</td>\n",
       "      <td>41</td>\n",
       "      <td>45</td>\n",
       "      <td>25.297818</td>\n",
       "      <td>86.887054</td>\n",
       "      <td>7.121934</td>\n",
       "      <td>196.624951</td>\n",
       "      <td>jute</td>\n",
       "    </tr>\n",
       "    <tr>\n",
       "      <th>1</th>\n",
       "      <td>86</td>\n",
       "      <td>40</td>\n",
       "      <td>39</td>\n",
       "      <td>25.721009</td>\n",
       "      <td>88.165136</td>\n",
       "      <td>6.207460</td>\n",
       "      <td>175.608670</td>\n",
       "      <td>jute</td>\n",
       "    </tr>\n",
       "    <tr>\n",
       "      <th>2</th>\n",
       "      <td>96</td>\n",
       "      <td>41</td>\n",
       "      <td>40</td>\n",
       "      <td>23.584193</td>\n",
       "      <td>72.004608</td>\n",
       "      <td>6.090060</td>\n",
       "      <td>190.424216</td>\n",
       "      <td>jute</td>\n",
       "    </tr>\n",
       "    <tr>\n",
       "      <th>3</th>\n",
       "      <td>100</td>\n",
       "      <td>35</td>\n",
       "      <td>36</td>\n",
       "      <td>25.310423</td>\n",
       "      <td>72.013644</td>\n",
       "      <td>6.346715</td>\n",
       "      <td>190.557762</td>\n",
       "      <td>jute</td>\n",
       "    </tr>\n",
       "    <tr>\n",
       "      <th>4</th>\n",
       "      <td>63</td>\n",
       "      <td>37</td>\n",
       "      <td>43</td>\n",
       "      <td>23.417990</td>\n",
       "      <td>85.086405</td>\n",
       "      <td>6.661958</td>\n",
       "      <td>185.744673</td>\n",
       "      <td>jute</td>\n",
       "    </tr>\n",
       "  </tbody>\n",
       "</table>\n",
       "</div>"
      ],
      "text/plain": [
       "     N   P   K  temperature   humidity        ph    rainfall label\n",
       "0   63  41  45    25.297818  86.887054  7.121934  196.624951  jute\n",
       "1   86  40  39    25.721009  88.165136  6.207460  175.608670  jute\n",
       "2   96  41  40    23.584193  72.004608  6.090060  190.424216  jute\n",
       "3  100  35  36    25.310423  72.013644  6.346715  190.557762  jute\n",
       "4   63  37  43    23.417990  85.086405  6.661958  185.744673  jute"
      ]
     },
     "execution_count": 5,
     "metadata": {},
     "output_type": "execute_result"
    }
   ],
   "source": [
    "cropdata = pd.read_csv(\"small_crop_rec.csv\")\n",
    "cropdata.head()"
   ]
  },
  {
   "cell_type": "code",
   "execution_count": null,
   "id": "7765f525",
   "metadata": {},
   "outputs": [],
   "source": []
  }
 ],
 "metadata": {
  "kernelspec": {
   "display_name": "Python 3 (ipykernel)",
   "language": "python",
   "name": "python3"
  },
  "language_info": {
   "codemirror_mode": {
    "name": "ipython",
    "version": 3
   },
   "file_extension": ".py",
   "mimetype": "text/x-python",
   "name": "python",
   "nbconvert_exporter": "python",
   "pygments_lexer": "ipython3",
   "version": "3.9.7"
  }
 },
 "nbformat": 4,
 "nbformat_minor": 5
}
