{
 "cells": [
  {
   "cell_type": "markdown",
   "id": "e6f289c8",
   "metadata": {},
   "source": [
    "# I WILL TRY TO MAKE A NAIVE BAYES ALGORITHM TO PREDICT CROP FROM SCRATCH HERE"
   ]
  },
  {
   "cell_type": "code",
   "execution_count": 1,
   "id": "79fcc0de",
   "metadata": {},
   "outputs": [
    {
     "data": {
      "text/html": [
       "<div>\n",
       "<style scoped>\n",
       "    .dataframe tbody tr th:only-of-type {\n",
       "        vertical-align: middle;\n",
       "    }\n",
       "\n",
       "    .dataframe tbody tr th {\n",
       "        vertical-align: top;\n",
       "    }\n",
       "\n",
       "    .dataframe thead th {\n",
       "        text-align: right;\n",
       "    }\n",
       "</style>\n",
       "<table border=\"1\" class=\"dataframe\">\n",
       "  <thead>\n",
       "    <tr style=\"text-align: right;\">\n",
       "      <th></th>\n",
       "      <th>N</th>\n",
       "      <th>P</th>\n",
       "      <th>K</th>\n",
       "      <th>temperature</th>\n",
       "      <th>humidity</th>\n",
       "      <th>ph</th>\n",
       "      <th>rainfall</th>\n",
       "      <th>label</th>\n",
       "    </tr>\n",
       "  </thead>\n",
       "  <tbody>\n",
       "    <tr>\n",
       "      <th>0</th>\n",
       "      <td>90</td>\n",
       "      <td>42</td>\n",
       "      <td>43</td>\n",
       "      <td>20.879744</td>\n",
       "      <td>82.002744</td>\n",
       "      <td>6.502985</td>\n",
       "      <td>202.935536</td>\n",
       "      <td>rice</td>\n",
       "    </tr>\n",
       "    <tr>\n",
       "      <th>1</th>\n",
       "      <td>85</td>\n",
       "      <td>58</td>\n",
       "      <td>41</td>\n",
       "      <td>21.770462</td>\n",
       "      <td>80.319644</td>\n",
       "      <td>7.038096</td>\n",
       "      <td>226.655537</td>\n",
       "      <td>rice</td>\n",
       "    </tr>\n",
       "    <tr>\n",
       "      <th>2</th>\n",
       "      <td>60</td>\n",
       "      <td>55</td>\n",
       "      <td>44</td>\n",
       "      <td>23.004459</td>\n",
       "      <td>82.320763</td>\n",
       "      <td>7.840207</td>\n",
       "      <td>263.964248</td>\n",
       "      <td>rice</td>\n",
       "    </tr>\n",
       "    <tr>\n",
       "      <th>3</th>\n",
       "      <td>74</td>\n",
       "      <td>35</td>\n",
       "      <td>40</td>\n",
       "      <td>26.491096</td>\n",
       "      <td>80.158363</td>\n",
       "      <td>6.980401</td>\n",
       "      <td>242.864034</td>\n",
       "      <td>rice</td>\n",
       "    </tr>\n",
       "    <tr>\n",
       "      <th>4</th>\n",
       "      <td>78</td>\n",
       "      <td>42</td>\n",
       "      <td>42</td>\n",
       "      <td>20.130175</td>\n",
       "      <td>81.604873</td>\n",
       "      <td>7.628473</td>\n",
       "      <td>262.717340</td>\n",
       "      <td>rice</td>\n",
       "    </tr>\n",
       "  </tbody>\n",
       "</table>\n",
       "</div>"
      ],
      "text/plain": [
       "    N   P   K  temperature   humidity        ph    rainfall label\n",
       "0  90  42  43    20.879744  82.002744  6.502985  202.935536  rice\n",
       "1  85  58  41    21.770462  80.319644  7.038096  226.655537  rice\n",
       "2  60  55  44    23.004459  82.320763  7.840207  263.964248  rice\n",
       "3  74  35  40    26.491096  80.158363  6.980401  242.864034  rice\n",
       "4  78  42  42    20.130175  81.604873  7.628473  262.717340  rice"
      ]
     },
     "execution_count": 1,
     "metadata": {},
     "output_type": "execute_result"
    }
   ],
   "source": [
    "import numpy as np\n",
    "import pandas as pd\n",
    "read = pd.read_csv(\"Crop_recommendation.csv\")\n",
    "read.head()"
   ]
  },
  {
   "cell_type": "code",
   "execution_count": 2,
   "id": "78e30ed7",
   "metadata": {},
   "outputs": [
    {
     "name": "stdout",
     "output_type": "stream",
     "text": [
      "['rice' 'maize' 'chickpea' 'kidneybeans' 'pigeonpeas' 'mothbeans'\n",
      " 'mungbean' 'blackgram' 'lentil' 'pomegranate' 'banana' 'mango' 'grapes'\n",
      " 'watermelon' 'muskmelon' 'apple' 'orange' 'papaya' 'coconut' 'cotton'\n",
      " 'jute' 'coffee']\n",
      "Index(['N', 'P', 'K', 'temperature', 'humidity', 'ph', 'rainfall'], dtype='object')\n"
     ]
    }
   ],
   "source": [
    "print(read['label'].unique())\n",
    "print(read.columns[0:len(read.columns)-1])\n"
   ]
  },
  {
   "cell_type": "code",
   "execution_count": 3,
   "id": "6d20eb03",
   "metadata": {},
   "outputs": [
    {
     "name": "stdout",
     "output_type": "stream",
     "text": [
      "N : 144\n",
      "P : 27\n",
      "K : 28\n",
      "temp : 24\n",
      "humidity : 57\n",
      "Ph : 7.16\n",
      "rainfall : 192\n",
      "{'riceN': 0.016789645748454013, 'riceP': 0.041414731465136106, 'riceK': 0.051888437177574354, 'ricetemperature': 0.19382113357846817, 'ricehumidity': 0.2762129480465412, 'riceph': 0.1891541866740699, 'ricerainfall': 0.004409355145612001, 'maizeN': 0.02949269641665449, 'maizeP': 0.037642179019350554, 'maizeK': 0.14104739588693907, 'maizetemperature': 0.11206339302678606, 'maizehumidity': 0.07083530224258743, 'maizeph': 0.29848137576976236, 'maizerainfall': 0.01713619354128338, 'chickpeaN': 0.024980368298068635, 'chickpeaP': 0.0426457070993888, 'chickpeaK': 0.10328830949345566, 'chickpeatemperature': 0.30444952072109704, 'chickpeahumidity': 0.15882954781984218, 'chickpeaph': 0.4894331369080471, 'chickpearainfall': 0.049042943215069024, 'kidneybeansN': 0.03625711947345401, 'kidneybeansP': 0.03437970950748524, 'kidneybeansK': 0.05467002489199788, 'kidneybeanstemperature': 0.13456332269382532, 'kidneybeanshumidity': 0.15127771892750036, 'kidneybeansph': 1.9664977940925479, 'kidneybeansrainfall': 0.01524753632544743, 'pigeonpeasN': 0.018438190899281844, 'pigeonpeasP': 0.04328567428729033, 'pigeonpeasK': 0.04808664695042801, 'pigeonpeastemperature': 0.028196414926281554, 'pigeonpeashumidity': 0.03627135405917119, 'pigeonpeasph': 0.1613080198877454, 'pigeonpeasrainfall': 0.008651277592998994, 'mothbeansN': 0.03198110833125617, 'mothbeansP': 0.05283703308174693, 'mothbeansK': 0.12579440923099774, 'mothbeanstemperature': 0.1790594701470515, 'mothbeanshumidity': 0.05142336920205619, 'mothbeansph': 0.04459602845558837, 'mothbeansrainfall': 0.011868179644674882, 'mungbeanN': 0.031586152571470245, 'mungbeanP': 0.030228634873196568, 'mungbeanK': 0.10648266850745075, 'mungbeantemperature': 0.20411664782734304, 'mungbeanhumidity': 0.10091190293929052, 'mungbeanph': 0.39193086753265793, 'mungbeanrainfall': 0.04728586534100753, 'blackgramN': 0.031147370830640623, 'blackgramP': 0.013614552038568966, 'blackgramK': 0.02085355003628301, 'blackgramtemperature': 0.14606724135929217, 'blackgramhumidity': 0.11268431936131894, 'blackgramph': 0.7395038287386585, 'blackgramrainfall': 0.053386392993157304, 'lentilN': 0.015334044294217784, 'lentilP': 0.029961020018947265, 'lentilK': 0.051888437177574354, 'lentiltemperature': 0.1181071952596351, 'lentilhumidity': 0.1230839368417496, 'lentilph': 0.34043908974051557, 'lentilrainfall': 0.04825009246502815, 'pomegranateN': 0.02310153893478862, 'pomegranateP': 0.025855550152518444, 'pomegranateK': 0.10648266850745075, 'pomegranatetemperature': 0.11761609033025816, 'pomegranatehumidity': 0.12240121257175225, 'pomegranateph': 0.6329907527501818, 'pomegranaterainfall': 0.13283107430927202, 'bananaN': 0.011110913462556877, 'bananaP': 0.015328426423921064, 'bananaK': 0.05812503012026839, 'bananatemperature': 0.1057078807685451, 'bananahumidity': 0.04864764113961914, 'bananaph': 0.313420690948424, 'bananarainfall': 0.03341596233210744, 'mangoN': 0.0319355110791811, 'mangoP': 0.05193404514066096, 'mangoK': 0.10648266850745075, 'mangotemperature': 0.1289172305475007, 'mangohumidity': 0.09883952177838204, 'mangoph': 0.5017295584494333, 'mangorainfall': 0.06675706726507481, 'grapesN': 0.020137586788431916, 'grapesP': 0.05060814247792889, 'grapesK': 0.03614447853363626, 'grapestemperature': 0.014793230741213647, 'grapeshumidity': 0.3255705661901881, 'grapesph': 1.1039506672289792, 'grapesrainfall': 0.06414709343865851, 'watermelonN': 0.00781648718362339, 'watermelonP': 0.03442010703351042, 'watermelonK': 0.12000389484301362, 'watermelontemperature': 0.27411797294922463, 'watermelonhumidity': 0.0483051107565673, 'watermelonph': 1.0004940755412575, 'watermelonrainfall': 0.02833776328518269, 'muskmelonN': 0.0290375258194961, 'muskmelonP': 0.05531809155101238, 'muskmelonK': 0.03614447853363626, 'muskmelontemperature': 0.2095519387531789, 'muskmelonhumidity': 0.13213069242745692, 'muskmelonph': 1.065238309196815, 'muskmelonrainfall': 0.14378568498194363, 'appleN': 0.023590702612908895, 'appleP': 0.03738472139250711, 'appleK': 0.07990018756667992, 'appletemperature': 0.4126889936723849, 'applehumidity': 0.14553173530635907, 'appleph': 0.7967947256076974, 'applerainfall': 0.014086548941386137, 'orangeN': 0.020163236348033946, 'orangeP': 0.022255527321517084, 'orangeK': 0.12579440923099774, 'orangetemperature': 0.017449028942569413, 'orangehumidity': 0.2711185849686146, 'orangeph': 0.4418793303230052, 'orangerainfall': 0.031058488830555443, 'papayaN': 0.02336579318169935, 'papayaP': 0.02493758204020002, 'papayaK': 0.1329807601338109, 'papayatemperature': 0.01475589562413913, 'papayahumidity': 0.22914893807263628, 'papayaph': 1.6952668079242512, 'papayarainfall': 0.0018353712344829744, 'coconutN': 0.03347159435974897, 'coconutP': 0.02326908864841799, 'coconutK': 0.13250176617201428, 'coconuttemperature': 0.2581498708519729, 'coconuthumidity': 0.11306824549087147, 'coconutph': 0.7904775238786049, 'coconutrainfall': 0.012903984193191834, 'cottonN': 0.03320983354645938, 'cottonP': 0.053788810552241016, 'cottonK': 0.05668582612248957, 'cottontemperature': 0.11911804350040649, 'cottonhumidity': 0.12785988696308798, 'cottonph': 0.5590757438153814, 'cottonrainfall': 0.014490102235795256, 'juteN': 0.03134550496137604, 'juteP': 0.05531809155101238, 'juteK': 0.12000389484301362, 'jutetemperature': 0.30030204061132276, 'jutehumidity': 0.029435350261584076, 'juteph': 0.5354478700471972, 'juterainfall': 0.015630308177535676, 'coffeeN': 0.031414551910364595, 'coffeeP': 0.021150349389380298, 'coffeeK': 0.06719935714243781, 'coffeetemperature': 0.11562493701339926, 'coffeehumidity': 0.06609563410037819, 'coffeeph': 0.9560907493792542, 'coffeerainfall': 0.01243252000897144}\n"
     ]
    }
   ],
   "source": [
    "import numpy as np\n",
    "import matplotlib.pyplot as plt\n",
    "from scipy.stats import norm\n",
    "import statistics\n",
    "\n",
    "N = float(input(\"N : \"))\n",
    "P = float(input(\"P : \"))\n",
    "K = float(input(\"K : \"))\n",
    "temp = float(input(\"temp : \"))\n",
    "humidity = float(input(\"humidity : \"))\n",
    "ph = float(input(\"Ph : \"))\n",
    "rainfall = float(input(\"rainfall : \"))\n",
    "\n",
    "data={}\n",
    "for i in read['label'].unique():\n",
    "    for col in read.columns[0:len(read.columns)-1]:\n",
    "        list = []\n",
    "        for k in range(len(read)):\n",
    "            if read['label'][k] == i:\n",
    "                list.append(read[col][k])\n",
    "        if(col=='N'):\n",
    "            input = N\n",
    "        elif (col == 'P'):\n",
    "            input=P\n",
    "        elif (col=='K'):\n",
    "            input = K\n",
    "        elif (col == 'temperature'):\n",
    "            input = temp\n",
    "        elif (col == 'humidity'):\n",
    "            input = humidity\n",
    "        elif (col == 'ph'):\n",
    "            input = ph\n",
    "        elif (col == 'rainfall'):\n",
    "            input = rainfall\n",
    "        x_axis = np.asarray(list)\n",
    "        mean = statistics.mean(x_axis)\n",
    "        sd = statistics.stdev(x_axis)\n",
    "        y_axis = norm.pdf(x_axis, mean, sd)\n",
    "        value = np.interp(input, x_axis,y_axis)\n",
    "        data[str(i)+str(col)] = value\n",
    "print(data)"
   ]
  },
  {
   "cell_type": "code",
   "execution_count": 8,
   "id": "e615b425",
   "metadata": {},
   "outputs": [
    {
     "data": {
      "text/plain": [
       "rice           100\n",
       "maize          100\n",
       "jute           100\n",
       "cotton         100\n",
       "coconut        100\n",
       "papaya         100\n",
       "orange         100\n",
       "apple          100\n",
       "muskmelon      100\n",
       "watermelon     100\n",
       "grapes         100\n",
       "mango          100\n",
       "banana         100\n",
       "pomegranate    100\n",
       "lentil         100\n",
       "blackgram      100\n",
       "mungbean       100\n",
       "mothbeans      100\n",
       "pigeonpeas     100\n",
       "kidneybeans    100\n",
       "chickpea       100\n",
       "coffee         100\n",
       "Name: label, dtype: int64"
      ]
     },
     "execution_count": 8,
     "metadata": {},
     "output_type": "execute_result"
    }
   ],
   "source": [
    "read['label'].value_counts()"
   ]
  },
  {
   "cell_type": "code",
   "execution_count": 17,
   "id": "9cd5cae9",
   "metadata": {},
   "outputs": [
    {
     "data": {
      "text/plain": [
       "0.01"
      ]
     },
     "execution_count": 17,
     "metadata": {},
     "output_type": "execute_result"
    }
   ],
   "source": [
    "probabilityofanycrop= 21/(21*100)\n",
    "probabilityofanycrop    "
   ]
  },
  {
   "cell_type": "code",
   "execution_count": 33,
   "id": "9b18b361",
   "metadata": {},
   "outputs": [
    {
     "name": "stdout",
     "output_type": "stream",
     "text": [
      "{'rice': -24.851563342704203, 'maize': -23.478770743992666, 'chickpea': -20.47863501545732, 'kidneybeans': -21.600459616496448, 'pigeonpeas': -28.23296093435975, 'mothbeans': -25.293134189325723, 'mungbean': -21.669730031102297, 'blackgram': -23.579871169445234, 'lentil': -23.5892953346067, 'pomegranate': -20.98478624241831, 'banana': -25.957361078168937, 'mango': -21.005992230327912, 'grapes': -22.79765415269724, 'watermelon': -22.833516315685443, 'muskmelon': -19.822203081397486, 'apple': -21.467658263930325, 'orange': -24.029607570171414, 'papaya': -25.532746506373456, 'coconut': -21.90333297285596, 'cotton': -22.803220683551427, 'jute': -22.59446154698162, 'coffee': -23.92824300903757}\n"
     ]
    }
   ],
   "source": [
    "from math import log\n",
    "Score = {}\n",
    "value = log(probabilityofanycrop)\n",
    "for i in read['label'].unique():\n",
    "    for col in read.columns[0:len(read.columns)-1]:\n",
    "        value+=log(data[str(i)+str(col)])\n",
    "    Score[i] = value\n",
    "    value = log(probabilityofanycrop)\n",
    "print(Score)"
   ]
  },
  {
   "cell_type": "code",
   "execution_count": 48,
   "id": "284eda74",
   "metadata": {},
   "outputs": [
    {
     "name": "stdout",
     "output_type": "stream",
     "text": [
      "muskmelon\n",
      "-19.822203081397486\n"
     ]
    }
   ],
   "source": [
    "maximum = Score['rice']\n",
    "for keys in Score:\n",
    "    maximum = max(maximum,Score[keys])\n",
    "for keys in Score:\n",
    "    if Score[keys]==maximum :\n",
    "        print(keys)\n",
    "print(maximum)\n"
   ]
  },
  {
   "cell_type": "code",
   "execution_count": null,
   "id": "3b18892e",
   "metadata": {},
   "outputs": [],
   "source": []
  },
  {
   "cell_type": "code",
   "execution_count": null,
   "id": "cf32aa3a",
   "metadata": {},
   "outputs": [],
   "source": []
  }
 ],
 "metadata": {
  "kernelspec": {
   "display_name": "Python 3 (ipykernel)",
   "language": "python",
   "name": "python3"
  },
  "language_info": {
   "codemirror_mode": {
    "name": "ipython",
    "version": 3
   },
   "file_extension": ".py",
   "mimetype": "text/x-python",
   "name": "python",
   "nbconvert_exporter": "python",
   "pygments_lexer": "ipython3",
   "version": "3.9.7"
  }
 },
 "nbformat": 4,
 "nbformat_minor": 5
}
